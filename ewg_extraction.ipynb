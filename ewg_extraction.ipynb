{
 "cells": [
  {
   "cell_type": "code",
   "execution_count": 89,
   "metadata": {
    "collapsed": true
   },
   "outputs": [],
   "source": [
    "import json\n",
    "from pathlib2 import Path\n",
    "from pprint import pprint\n",
    "import numpy as np\n",
    "import pandas as pd\n",
    "\n",
    "ingredient_file = 'ewg_ingredients.json'\n",
    "product_file = 'ewg_products.json'\n",
    "\n",
    "try:\n",
    "    c1 = json.load(open('ewg_skindeep_ingredients1.json'))\n",
    "except IOError:\n",
    "    c1 = []\n",
    "try:\n",
    "    c2 = json.load(open('ewg_skindeep_ingredients2.json'))\n",
    "except IOError:\n",
    "    c2 = []\n",
    "try:\n",
    "    c3 = json.load(open('ewg_skindeep_ingredients3.json'))\n",
    "except IOError:\n",
    "    c3 = []\n",
    "\n",
    "products = {}\n",
    "ingredients = {}\n",
    "dup_prods = None\n",
    "dup_ing = None"
   ]
  },
  {
   "cell_type": "code",
   "execution_count": 3,
   "metadata": {},
   "outputs": [
    {
     "name": "stdout",
     "output_type": "stream",
     "text": [
      "Crawled data contains 8927 ingredients in 72309 unique products\n",
      "Duplicate Ingredients: 8773\n",
      "Duplicate Products: 15418\n"
     ]
    }
   ],
   "source": [
    "# Collect crawled data\n",
    "# Since 3 crawler instances were ran together asynchronously\n",
    "# concatenate results and remove duplicates\n",
    "\n",
    "# Only parse ingredients and product if this step hasn't already been done \n",
    "if not Path(product_file).is_file():\n",
    "    dup_prods = 0\n",
    "    p_list = (\n",
    "        [x for x in c1 if 'product_id' in x.keys()]\n",
    "        + [x for x in c2 if 'product_id' in x.keys()]\n",
    "        + [x for x in c3 if 'product_id' in x.keys()])\n",
    "    for product in p_list:\n",
    "        if product['product_id'] not in products.keys():\n",
    "            products[product['product_id']] = product\n",
    "        else:\n",
    "            dup_prods = dup_prods + 1\n",
    "    with open('ewg_products.json', 'w') as f:\n",
    "        json.dump(products, f)\n",
    "else:\n",
    "    products = json.load(open(product_file))\n",
    "\n",
    "if not Path(ingredient_file).is_file():\n",
    "    dup_ing = 0\n",
    "    i_list = (\n",
    "        [x for x in c1 if 'ingredient_id' in x.keys()]\n",
    "        + [x for x in c2 if 'ingredient_id' in x.keys()]\n",
    "        + [x for x in c3 if 'ingredient_id' in x.keys()])\n",
    "    for ingredient in i_list:\n",
    "        if ingredient['ingredient_id'] not in ingredients.keys():\n",
    "            ingredients[ingredient['ingredient_id']] = ingredient\n",
    "        else:\n",
    "            dup_ing = dup_ing + 1\n",
    "    with open('ewg_ingredients.json', 'w') as f:\n",
    "        json.dump(ingredients, f)\n",
    "else:\n",
    "    ingredients = json.load(open(ingredient_file))\n",
    "\n",
    "print(\"Crawled data contains {} ingredients in {} unique products\".format(len(ingredients), len(products)))\n",
    "if dup_ing is not None:\n",
    "    print(\"Duplicate Ingredients: {}\".format(dup_ing))\n",
    "if dup_prods is not None:\n",
    "    print(\"Duplicate Products: {}\".format(dup_prods))"
   ]
  },
  {
   "cell_type": "code",
   "execution_count": 4,
   "metadata": {},
   "outputs": [
    {
     "name": "stdout",
     "output_type": "stream",
     "text": [
      "72304 out of 72309 product entries have ingredient lists. The average number of ingredients is 21.1214040717\n"
     ]
    }
   ],
   "source": [
    "count = 0\n",
    "num_ingredients = 0\n",
    "for (k, v) in products.iteritems():\n",
    "    if \"ingredient_list\" in v.keys():\n",
    "        count = count + 1\n",
    "        num_ingredients = num_ingredients + len(v[\"ingredient_list\"])\n",
    "    #else:\n",
    "    #    pprint(v)\n",
    "print(\"{} out of {} product entries have ingredient lists. The average number of ingredients is {}\".format(count, len(products), 1.0 * num_ingredients/count))"
   ]
  },
  {
   "cell_type": "code",
   "execution_count": 8,
   "metadata": {},
   "outputs": [],
   "source": [
    "# Try cross comparing a product ingredient list to ingredients dictionary\n",
    "error_keys = []\n",
    "error_prod = []\n",
    "for (k, v) in products.iteritems():\n",
    "    if 'ingredient_list' in v.keys():\n",
    "        for key in v['ingredient_list']:\n",
    "            if key not in ingredients:                \n",
    "                error_keys.append(key)\n",
    "                error_prod.append(v['url'])"
   ]
  },
  {
   "cell_type": "code",
   "execution_count": 10,
   "metadata": {},
   "outputs": [
    {
     "name": "stdout",
     "output_type": "stream",
     "text": [
      "Number of keys not in ingredients dict: 0\n"
     ]
    }
   ],
   "source": [
    "print(\"Number of keys not in ingredients dict: {}\".format(len(error_keys)))\n"
   ]
  },
  {
   "cell_type": "code",
   "execution_count": 74,
   "metadata": {},
   "outputs": [],
   "source": [
    "# Check ingredient data availability\n",
    "metric_keys = ingredients.values()[0].keys()\n",
    "metric_dict = {}\n",
    "for ingredient in ingredients.values():\n",
    "    for key in (set(ingredient.keys()) - set(metric_keys)):\n",
    "        metric_keys.append(key)\n",
    "    for key in metric_keys:\n",
    "        if ingredient.get(key, None) is not None:\n",
    "            metric_dict[key] = metric_dict.get(key, 0) + 1\n"
   ]
  },
  {
   "cell_type": "code",
   "execution_count": 75,
   "metadata": {},
   "outputs": [
    {
     "name": "stdout",
     "output_type": "stream",
     "text": [
      "Percent of ingredients with given key:\n",
      "\n",
      "use_restrict_score: 99.99%\n",
      "cancer_score: 99.99%\n",
      "allergy_imm_tox_score: 99.99%\n",
      "function_list: 68.06%\n",
      "ingredient_score: 99.99%\n",
      "url: 100.00%\n",
      "overall_hazard_score: 99.99%\n",
      "ingredient_name: 99.99%\n",
      "ingredient_id: 100.00%\n",
      "data_availability: 99.99%\n",
      "synonym_list: 64.36%\n",
      "dev_reprod_tox_score: 99.99%\n"
     ]
    }
   ],
   "source": [
    "print(\"Percent of ingredients with given key:\\n\")\n",
    "for (k, v) in metric_dict.iteritems():\n",
    "    print(\"{}: {:.2f}%\".format(k,  (100.0 * v/len(ingredients))))"
   ]
  },
  {
   "cell_type": "code",
   "execution_count": 81,
   "metadata": {
    "collapsed": true
   },
   "outputs": [],
   "source": [
    "# Check product data availability\n",
    "metric_keys = products.values()[0].keys()\n",
    "metric_dict = {}\n",
    "for product in products.values():\n",
    "    for key in (set(product.keys()) - set(metric_keys)):\n",
    "        metric_keys.append(key)\n",
    "    for key in metric_keys:\n",
    "        if product.get(key, None) is not None:\n",
    "            metric_dict[key] = metric_dict.get(key, 0) + 1\n",
    "\n",
    "        "
   ]
  },
  {
   "cell_type": "code",
   "execution_count": 82,
   "metadata": {},
   "outputs": [
    {
     "name": "stdout",
     "output_type": "stream",
     "text": [
      "Percent of products with given key:\n",
      "\n",
      "use_restrict_score: 100.00%\n",
      "cancer_score: 100.00%\n",
      "product_type: 100.00%\n",
      "product_id: 100.00%\n",
      "ingredient_list: 99.99%\n",
      "url: 100.00%\n",
      "product_score: 98.36%\n",
      "overall_hazard_score: 100.00%\n",
      "data_availability: 100.00%\n",
      "allergy_imm_tox_score: 100.00%\n",
      "product_name: 100.00%\n",
      "dev_reprod_tox_score: 100.00%\n"
     ]
    }
   ],
   "source": [
    "print(\"Percent of products with given key:\\n\")\n",
    "for (k, v) in metric_dict.iteritems():\n",
    "    print(\"{}: {:.2f}%\".format(k,  (100.0 * v/len(products))))"
   ]
  },
  {
   "cell_type": "code",
   "execution_count": null,
   "metadata": {
    "collapsed": true
   },
   "outputs": [],
   "source": []
  }
 ],
 "metadata": {
  "kernelspec": {
   "display_name": "Python [default]",
   "language": "python",
   "name": "python2"
  },
  "language_info": {
   "codemirror_mode": {
    "name": "ipython",
    "version": 2
   },
   "file_extension": ".py",
   "mimetype": "text/x-python",
   "name": "python",
   "nbconvert_exporter": "python",
   "pygments_lexer": "ipython2",
   "version": "2.7.13"
  }
 },
 "nbformat": 4,
 "nbformat_minor": 2
}
