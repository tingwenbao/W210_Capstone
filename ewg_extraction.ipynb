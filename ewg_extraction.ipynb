{
 "cells": [
  {
   "cell_type": "code",
   "execution_count": 33,
   "metadata": {
    "collapsed": true
   },
   "outputs": [],
   "source": [
    "import json\n",
    "from pathlib2 import Path\n",
    "from pprint import pprint\n",
    "\n",
    "ingredient_file = 'ewg_ingredients.json'\n",
    "product_file = 'ewg_products.json'\n",
    "\n",
    "c1 = json.load(open('ewg_skindeep_ingredients1.json'))\n",
    "c2 = json.load(open('ewg_skindeep_ingredients2.json'))\n",
    "c3 = json.load(open('ewg_skindeep_ingredients3.json'))\n",
    "\n",
    "products = {}\n",
    "ingredients = {}\n",
    "dup_prods = None\n",
    "dup_ing = None"
   ]
  },
  {
   "cell_type": "code",
   "execution_count": 34,
   "metadata": {
    "collapsed": false
   },
   "outputs": [
    {
     "name": "stdout",
     "output_type": "stream",
     "text": [
      "Crawled data contains 7349 ingredients in 72247 unique products\n",
      "Duplicate Products: 1560\n"
     ]
    }
   ],
   "source": [
    "# Collect crawled data\n",
    "# Since 3 crawler instances were ran together asynchronously\n",
    "# concatenate results and remove duplicates\n",
    "\n",
    "# Only parse ingredients and product if this step hasn't already been done \n",
    "if not Path(product_file).is_file():\n",
    "    dup_prods = 0\n",
    "    p_list = (\n",
    "        [x for x in c1 if 'product_id' in x.keys()]\n",
    "        + [x for x in c2 if 'product_id' in x.keys()]\n",
    "        + [x for x in c3 if 'product_id' in x.keys()])\n",
    "    for product in p_list:\n",
    "        if product['product_id'] not in products.keys():\n",
    "            products[product['product_id']] = product\n",
    "        else:\n",
    "            dup_prods = dup_prods + 1\n",
    "    with open('ewg_products.json', 'w') as f:\n",
    "        json.dump(products, f)\n",
    "else:\n",
    "    products = json.load(open(product_file))\n",
    "\n",
    "if not Path(ingredient_file).is_file():\n",
    "    dup_ing = 0\n",
    "    i_list = (\n",
    "        [x for x in c1 if 'ingredient_id' in x.keys()]\n",
    "        + [x for x in c3 if 'ingredient_id' in x.keys()]\n",
    "        + [x for x in c3 if 'ingredient_id' in x.keys()])\n",
    "    for ingredient in i_list:\n",
    "        if ingredient['ingredient_id'] not in ingredients.keys():\n",
    "            ingredients[ingredient['ingredient_id']] = ingredient\n",
    "        else:\n",
    "            dup_ing = dup_ing + 1\n",
    "    with open('ewg_ingredients.json', 'w') as f:\n",
    "        json.dump(ingredients, f)\n",
    "else:\n",
    "    ingredients = json.load(open(ingredient_file))\n",
    "\n",
    "print(\"Crawled data contains {} ingredients in {} unique products\".format(len(ingredients), len(products)))\n",
    "if dup_ing is not None:\n",
    "    print(\"Duplicate Ingredients: {}\".format(dup_ing))\n",
    "if dup_prods is not None:\n",
    "    print(\"Duplicate Products: {}\".format(dup_prods))"
   ]
  },
  {
   "cell_type": "code",
   "execution_count": 63,
   "metadata": {
    "collapsed": false
   },
   "outputs": [
    {
     "name": "stdout",
     "output_type": "stream",
     "text": [
      "72242 out of 72247 product entries have ingredient lists. The average number of ingredients is 21.118310678\n"
     ]
    }
   ],
   "source": [
    "count = 0\n",
    "num_ingredients = 0\n",
    "for (k, v) in products.iteritems():\n",
    "    if \"ingredient_list\" in v.keys():\n",
    "        count = count + 1\n",
    "        num_ingredients = num_ingredients + len(v[\"ingredient_list\"])\n",
    "    #else:\n",
    "    #    pprint(v)\n",
    "print(\"{} out of {} product entries have ingredient lists. The average number of ingredients is {}\".format(count, len(products), 1.0 * num_ingredients/count))"
   ]
  },
  {
   "cell_type": "code",
   "execution_count": 84,
   "metadata": {
    "collapsed": false
   },
   "outputs": [],
   "source": [
    "# Try cross comparing a product ingredient list to ingredients dictionary\n",
    "error_keys = []\n",
    "error_prod = []\n",
    "for (k, v) in products.iteritems():\n",
    "    if 'ingredient_list' in v.keys():\n",
    "        for key in v['ingredient_list']:\n",
    "            if key not in error_keys:                \n",
    "                error_keys.append(key)\n",
    "                error_prod.append(v['url'])"
   ]
  },
  {
   "cell_type": "code",
   "execution_count": 89,
   "metadata": {
    "collapsed": false
   },
   "outputs": [
    {
     "name": "stdout",
     "output_type": "stream",
     "text": [
      "Number of keys not in ingredients dict: 8925\n",
      "http://www.ewg.org/skindeep/product/497598/Ella%27s_Botanicals_Chai_Latte_Beauty_Bar_Soap_%28old_formulation%29/\n",
      "http://www.ewg.org/skindeep/product/535568/Ahava_Mineral_Body_Lotion_%28old_formulation%29/\n",
      "http://www.ewg.org/skindeep/product/468332/Arcona_Night_Breeze%2C_Heal%3B%3BProtect_PM/\n"
     ]
    }
   ],
   "source": [
    "print(\"Number of keys not in ingredients dict: {}\".format(len(error_keys)))\n",
    "# exmples:\n",
    "print(error_prod[0])\n",
    "print(error_prod[300])\n",
    "print(error_prod[8924])"
   ]
  }
 ],
 "metadata": {
  "kernelspec": {
   "display_name": "Python 2",
   "language": "python",
   "name": "python2"
  },
  "language_info": {
   "codemirror_mode": {
    "name": "ipython",
    "version": 2
   },
   "file_extension": ".py",
   "mimetype": "text/x-python",
   "name": "python",
   "nbconvert_exporter": "python",
   "pygments_lexer": "ipython2",
   "version": "2.7.13"
  }
 },
 "nbformat": 4,
 "nbformat_minor": 2
}
